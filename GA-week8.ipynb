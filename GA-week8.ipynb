{
 "cells": [
  {
   "cell_type": "markdown",
   "id": "25b64c98",
   "metadata": {},
   "source": [
    "# Group Activity : Testing-Hypothesis"
   ]
  },
  {
   "cell_type": "code",
   "execution_count": 1,
   "id": "1354625d",
   "metadata": {},
   "outputs": [],
   "source": [
    "import pandas as pd \n",
    "import numpy as np\n",
    "import seaborn as sns\n",
    "import scipy.stats as stats"
   ]
  },
  {
   "cell_type": "code",
   "execution_count": 3,
   "id": "d3d785ff",
   "metadata": {},
   "outputs": [],
   "source": [
    "#Data uploading\n",
    "TH = pd.read_csv('Week_8_Q&A_dataset - Sheet1.csv')"
   ]
  },
  {
   "cell_type": "code",
   "execution_count": 4,
   "id": "6ad19b98",
   "metadata": {},
   "outputs": [
    {
     "data": {
      "text/html": [
       "<div>\n",
       "<style scoped>\n",
       "    .dataframe tbody tr th:only-of-type {\n",
       "        vertical-align: middle;\n",
       "    }\n",
       "\n",
       "    .dataframe tbody tr th {\n",
       "        vertical-align: top;\n",
       "    }\n",
       "\n",
       "    .dataframe thead th {\n",
       "        text-align: right;\n",
       "    }\n",
       "</style>\n",
       "<table border=\"1\" class=\"dataframe\">\n",
       "  <thead>\n",
       "    <tr style=\"text-align: right;\">\n",
       "      <th></th>\n",
       "      <th>Gender</th>\n",
       "      <th>Test preparation</th>\n",
       "      <th>Total Marks</th>\n",
       "    </tr>\n",
       "  </thead>\n",
       "  <tbody>\n",
       "    <tr>\n",
       "      <th>0</th>\n",
       "      <td>male</td>\n",
       "      <td>none</td>\n",
       "      <td>14</td>\n",
       "    </tr>\n",
       "    <tr>\n",
       "      <th>1</th>\n",
       "      <td>female</td>\n",
       "      <td>none</td>\n",
       "      <td>28</td>\n",
       "    </tr>\n",
       "    <tr>\n",
       "      <th>2</th>\n",
       "      <td>female</td>\n",
       "      <td>none</td>\n",
       "      <td>18</td>\n",
       "    </tr>\n",
       "    <tr>\n",
       "      <th>3</th>\n",
       "      <td>female</td>\n",
       "      <td>none</td>\n",
       "      <td>48</td>\n",
       "    </tr>\n",
       "    <tr>\n",
       "      <th>4</th>\n",
       "      <td>female</td>\n",
       "      <td>none</td>\n",
       "      <td>21</td>\n",
       "    </tr>\n",
       "  </tbody>\n",
       "</table>\n",
       "</div>"
      ],
      "text/plain": [
       "   Gender Test preparation  Total Marks\n",
       "0    male             none           14\n",
       "1  female             none           28\n",
       "2  female             none           18\n",
       "3  female             none           48\n",
       "4  female             none           21"
      ]
     },
     "execution_count": 4,
     "metadata": {},
     "output_type": "execute_result"
    }
   ],
   "source": [
    "TH.head()"
   ]
  },
  {
   "cell_type": "code",
   "execution_count": 5,
   "id": "272a5592",
   "metadata": {},
   "outputs": [
    {
     "data": {
      "text/plain": [
       "Gender              28\n",
       "Test preparation    28\n",
       "Total Marks         28\n",
       "dtype: int64"
      ]
     },
     "execution_count": 5,
     "metadata": {},
     "output_type": "execute_result"
    }
   ],
   "source": [
    "TH.count()"
   ]
  },
  {
   "cell_type": "raw",
   "id": "9ebe7ee8",
   "metadata": {},
   "source": [
    "1)Carry out descriptive analytics on the dataset."
   ]
  },
  {
   "cell_type": "code",
   "execution_count": 18,
   "id": "ad933f0f",
   "metadata": {},
   "outputs": [
    {
     "data": {
      "text/plain": [
       "Gender              0\n",
       "Test preparation    0\n",
       "Total Marks         0\n",
       "dtype: int64"
      ]
     },
     "execution_count": 18,
     "metadata": {},
     "output_type": "execute_result"
    }
   ],
   "source": [
    "TH.isnull().sum()"
   ]
  },
  {
   "cell_type": "code",
   "execution_count": 12,
   "id": "aedf9705",
   "metadata": {},
   "outputs": [
    {
     "data": {
      "text/html": [
       "<div>\n",
       "<style scoped>\n",
       "    .dataframe tbody tr th:only-of-type {\n",
       "        vertical-align: middle;\n",
       "    }\n",
       "\n",
       "    .dataframe tbody tr th {\n",
       "        vertical-align: top;\n",
       "    }\n",
       "\n",
       "    .dataframe thead th {\n",
       "        text-align: right;\n",
       "    }\n",
       "</style>\n",
       "<table border=\"1\" class=\"dataframe\">\n",
       "  <thead>\n",
       "    <tr style=\"text-align: right;\">\n",
       "      <th></th>\n",
       "      <th>Total Marks</th>\n",
       "    </tr>\n",
       "  </thead>\n",
       "  <tbody>\n",
       "    <tr>\n",
       "      <th>count</th>\n",
       "      <td>28.000000</td>\n",
       "    </tr>\n",
       "    <tr>\n",
       "      <th>mean</th>\n",
       "      <td>32.321429</td>\n",
       "    </tr>\n",
       "    <tr>\n",
       "      <th>std</th>\n",
       "      <td>12.454520</td>\n",
       "    </tr>\n",
       "    <tr>\n",
       "      <th>min</th>\n",
       "      <td>12.000000</td>\n",
       "    </tr>\n",
       "    <tr>\n",
       "      <th>25%</th>\n",
       "      <td>22.500000</td>\n",
       "    </tr>\n",
       "    <tr>\n",
       "      <th>50%</th>\n",
       "      <td>33.000000</td>\n",
       "    </tr>\n",
       "    <tr>\n",
       "      <th>75%</th>\n",
       "      <td>43.250000</td>\n",
       "    </tr>\n",
       "    <tr>\n",
       "      <th>max</th>\n",
       "      <td>50.000000</td>\n",
       "    </tr>\n",
       "  </tbody>\n",
       "</table>\n",
       "</div>"
      ],
      "text/plain": [
       "       Total Marks\n",
       "count    28.000000\n",
       "mean     32.321429\n",
       "std      12.454520\n",
       "min      12.000000\n",
       "25%      22.500000\n",
       "50%      33.000000\n",
       "75%      43.250000\n",
       "max      50.000000"
      ]
     },
     "execution_count": 12,
     "metadata": {},
     "output_type": "execute_result"
    }
   ],
   "source": [
    "TH.describe()"
   ]
  },
  {
   "cell_type": "code",
   "execution_count": 19,
   "id": "74d55e88",
   "metadata": {},
   "outputs": [
    {
     "name": "stdout",
     "output_type": "stream",
     "text": [
      "<class 'pandas.core.frame.DataFrame'>\n",
      "RangeIndex: 28 entries, 0 to 27\n",
      "Data columns (total 3 columns):\n",
      " #   Column            Non-Null Count  Dtype \n",
      "---  ------            --------------  ----- \n",
      " 0   Gender            28 non-null     object\n",
      " 1   Test preparation  28 non-null     object\n",
      " 2   Total Marks       28 non-null     int64 \n",
      "dtypes: int64(1), object(2)\n",
      "memory usage: 800.0+ bytes\n"
     ]
    }
   ],
   "source": [
    "TH.info()"
   ]
  },
  {
   "cell_type": "raw",
   "id": "239e8838",
   "metadata": {},
   "source": [
    "The following insights are listed\n",
    "    1. No null values are present in the dataset of 28 entries.\n",
    "    2. The average marks of the dataset is 32.32 with a standard deviation of 12.45.\n",
    "    4. Maximum and Minimum marks are 50 and 12 respectively.\n",
    "    "
   ]
  },
  {
   "cell_type": "markdown",
   "id": "4e257418",
   "metadata": {},
   "source": [
    "2) Check whether female and male students scored the same marks."
   ]
  },
  {
   "cell_type": "code",
   "execution_count": 20,
   "id": "714e36d7",
   "metadata": {},
   "outputs": [],
   "source": [
    "THmvsf = TH.groupby('Gender')"
   ]
  },
  {
   "cell_type": "code",
   "execution_count": 22,
   "id": "72b8f800",
   "metadata": {},
   "outputs": [
    {
     "data": {
      "text/html": [
       "<div>\n",
       "<style scoped>\n",
       "    .dataframe tbody tr th:only-of-type {\n",
       "        vertical-align: middle;\n",
       "    }\n",
       "\n",
       "    .dataframe tbody tr th {\n",
       "        vertical-align: top;\n",
       "    }\n",
       "\n",
       "    .dataframe thead tr th {\n",
       "        text-align: left;\n",
       "    }\n",
       "\n",
       "    .dataframe thead tr:last-of-type th {\n",
       "        text-align: right;\n",
       "    }\n",
       "</style>\n",
       "<table border=\"1\" class=\"dataframe\">\n",
       "  <thead>\n",
       "    <tr>\n",
       "      <th></th>\n",
       "      <th colspan=\"8\" halign=\"left\">Total Marks</th>\n",
       "    </tr>\n",
       "    <tr>\n",
       "      <th></th>\n",
       "      <th>count</th>\n",
       "      <th>mean</th>\n",
       "      <th>std</th>\n",
       "      <th>min</th>\n",
       "      <th>25%</th>\n",
       "      <th>50%</th>\n",
       "      <th>75%</th>\n",
       "      <th>max</th>\n",
       "    </tr>\n",
       "    <tr>\n",
       "      <th>Gender</th>\n",
       "      <th></th>\n",
       "      <th></th>\n",
       "      <th></th>\n",
       "      <th></th>\n",
       "      <th></th>\n",
       "      <th></th>\n",
       "      <th></th>\n",
       "      <th></th>\n",
       "    </tr>\n",
       "  </thead>\n",
       "  <tbody>\n",
       "    <tr>\n",
       "      <th>female</th>\n",
       "      <td>16.0</td>\n",
       "      <td>33.750000</td>\n",
       "      <td>12.865976</td>\n",
       "      <td>12.0</td>\n",
       "      <td>25.50</td>\n",
       "      <td>39.0</td>\n",
       "      <td>43.50</td>\n",
       "      <td>50.0</td>\n",
       "    </tr>\n",
       "    <tr>\n",
       "      <th>male</th>\n",
       "      <td>12.0</td>\n",
       "      <td>30.416667</td>\n",
       "      <td>12.168950</td>\n",
       "      <td>14.0</td>\n",
       "      <td>21.75</td>\n",
       "      <td>29.0</td>\n",
       "      <td>43.25</td>\n",
       "      <td>47.0</td>\n",
       "    </tr>\n",
       "  </tbody>\n",
       "</table>\n",
       "</div>"
      ],
      "text/plain": [
       "       Total Marks                                                      \n",
       "             count       mean        std   min    25%   50%    75%   max\n",
       "Gender                                                                  \n",
       "female        16.0  33.750000  12.865976  12.0  25.50  39.0  43.50  50.0\n",
       "male          12.0  30.416667  12.168950  14.0  21.75  29.0  43.25  47.0"
      ]
     },
     "execution_count": 22,
     "metadata": {},
     "output_type": "execute_result"
    }
   ],
   "source": [
    "THmvsf.describe()"
   ]
  },
  {
   "cell_type": "raw",
   "id": "ffa46dcb",
   "metadata": {},
   "source": [
    "Since the total dataset containing less than 30 samples we are using t distribution to analyse whether male and female \n",
    "students scored the same mark.\n",
    "Setting Hyptothesis:\n",
    "H0 = Null Hypothesis = The avg mark of male and female students are same.\n",
    "H1 = Alternative Hypothesis = The average mark of male and female students are not same.\n",
    "set alpha = 0.05"
   ]
  },
  {
   "cell_type": "code",
   "execution_count": 23,
   "id": "fc2b7ccb",
   "metadata": {},
   "outputs": [],
   "source": [
    "gender=TH['Gender']"
   ]
  },
  {
   "cell_type": "code",
   "execution_count": 24,
   "id": "abbc79d0",
   "metadata": {},
   "outputs": [
    {
     "data": {
      "text/plain": [
       "0       male\n",
       "1     female\n",
       "2     female\n",
       "3     female\n",
       "4     female\n",
       "5     female\n",
       "6       male\n",
       "7     female\n",
       "8       male\n",
       "9       male\n",
       "10      male\n",
       "11      male\n",
       "12      male\n",
       "13      male\n",
       "14    female\n",
       "15    female\n",
       "16    female\n",
       "17    female\n",
       "18      male\n",
       "19      male\n",
       "20      male\n",
       "21      male\n",
       "22    female\n",
       "23    female\n",
       "24    female\n",
       "25    female\n",
       "26    female\n",
       "27    female\n",
       "Name: Gender, dtype: object"
      ]
     },
     "execution_count": 24,
     "metadata": {},
     "output_type": "execute_result"
    }
   ],
   "source": [
    "gender"
   ]
  },
  {
   "cell_type": "code",
   "execution_count": 26,
   "id": "8d8a6956",
   "metadata": {},
   "outputs": [
    {
     "data": {
      "text/plain": [
       "Ttest_indResult(statistic=-0.6940885268848668, pvalue=0.4937822317960763)"
      ]
     },
     "execution_count": 26,
     "metadata": {},
     "output_type": "execute_result"
    }
   ],
   "source": [
    "mark=TH['Total Marks']\n",
    "male=gender=='male'\n",
    "female=gender=='female'\n",
    "malescore=mark[male]\n",
    "femalescore=mark[female]\n",
    "from scipy.stats import ttest_ind\n",
    "ttest_ind(malescore,femalescore)"
   ]
  },
  {
   "cell_type": "raw",
   "id": "3b111a04",
   "metadata": {},
   "source": [
    "The t value of means is:  -0.6941\n",
    "The p value based on the t score is:  0.4938"
   ]
  },
  {
   "cell_type": "markdown",
   "id": "c15bd87f",
   "metadata": {},
   "source": [
    "Conclusion: Since we got a higher probablity value than level of significance we have to accept the null hypothesis.\n",
    "So we conclude that on an average male and female students score same marks."
   ]
  },
  {
   "cell_type": "markdown",
   "id": "d9cee289",
   "metadata": {},
   "source": [
    "3) Whether test preparation helps the students?"
   ]
  },
  {
   "cell_type": "raw",
   "id": "6fd6ad91",
   "metadata": {},
   "source": [
    "Setting Hyptothesis:\n",
    "H0 = Null Hypothesis = The avg mark of students those who take test preparation and the other students are same.\n",
    "H1 = Alternative Hypothesis = The average marks are same.\n",
    "set alpha = 0.05"
   ]
  },
  {
   "cell_type": "code",
   "execution_count": 29,
   "id": "63728039",
   "metadata": {},
   "outputs": [
    {
     "data": {
      "text/plain": [
       "5     40\n",
       "10    44\n",
       "12    43\n",
       "16    48\n",
       "21    44\n",
       "26    50\n",
       "27    43\n",
       "Name: Total Marks, dtype: int64"
      ]
     },
     "execution_count": 29,
     "metadata": {},
     "output_type": "execute_result"
    }
   ],
   "source": [
    "preparation_test = TH[TH['Test preparation']=='completed']['Total Marks']\n",
    "preparation_test"
   ]
  },
  {
   "cell_type": "code",
   "execution_count": 30,
   "id": "221c2c60",
   "metadata": {},
   "outputs": [
    {
     "data": {
      "text/plain": [
       "count     7.000000\n",
       "mean     44.571429\n",
       "std       3.359422\n",
       "min      40.000000\n",
       "25%      43.000000\n",
       "50%      44.000000\n",
       "75%      46.000000\n",
       "max      50.000000\n",
       "Name: Total Marks, dtype: float64"
      ]
     },
     "execution_count": 30,
     "metadata": {},
     "output_type": "execute_result"
    }
   ],
   "source": [
    "preparation_test.describe()"
   ]
  },
  {
   "cell_type": "code",
   "execution_count": 31,
   "id": "c46a4812",
   "metadata": {},
   "outputs": [],
   "source": [
    "preparation_test_not = TH[TH['Test preparation']=='none']['Total Marks']"
   ]
  },
  {
   "cell_type": "code",
   "execution_count": 33,
   "id": "4ee7cd35",
   "metadata": {},
   "outputs": [
    {
     "data": {
      "text/plain": [
       "count    21.000000\n",
       "mean     28.238095\n",
       "std      11.661495\n",
       "min      12.000000\n",
       "25%      18.000000\n",
       "50%      27.000000\n",
       "75%      38.000000\n",
       "max      48.000000\n",
       "Name: Total Marks, dtype: float64"
      ]
     },
     "execution_count": 33,
     "metadata": {},
     "output_type": "execute_result"
    }
   ],
   "source": [
    "preparation_test_not.describe()"
   ]
  },
  {
   "cell_type": "code",
   "execution_count": 34,
   "id": "61eb2f8c",
   "metadata": {},
   "outputs": [
    {
     "data": {
      "text/plain": [
       "Ttest_indResult(statistic=3.6143637527769217, pvalue=0.0012671292457320106)"
      ]
     },
     "execution_count": 34,
     "metadata": {},
     "output_type": "execute_result"
    }
   ],
   "source": [
    "ttest_ind(preparation_test,preparation_test_not)"
   ]
  },
  {
   "cell_type": "markdown",
   "id": "c4fd0658",
   "metadata": {},
   "source": [
    "Conclusion: Since we got the probablity value less than the level of significance we reject the null hypothesis.\n",
    "Hence it is concluded that the preparation test helps studens as well to boost their performance. "
   ]
  }
 ],
 "metadata": {
  "kernelspec": {
   "display_name": "Python 3",
   "language": "python",
   "name": "python3"
  },
  "language_info": {
   "codemirror_mode": {
    "name": "ipython",
    "version": 3
   },
   "file_extension": ".py",
   "mimetype": "text/x-python",
   "name": "python",
   "nbconvert_exporter": "python",
   "pygments_lexer": "ipython3",
   "version": "3.8.8"
  }
 },
 "nbformat": 4,
 "nbformat_minor": 5
}
